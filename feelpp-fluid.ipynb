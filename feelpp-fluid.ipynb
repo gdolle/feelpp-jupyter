{
 "cells": [
  {
   "cell_type": "markdown",
   "metadata": {},
   "source": [
    "# Example of Feel++ Fluid toolbox\n",
    "\n",
    "This Feel++ python tutorial is using the [docker images](https://hub.docker.com/r/feelpp/feelpp-pyfeelpp/) `feelpp/feelpp-pyfeelpp`.\n",
    "\n",
    "See also\n",
    "- [Feel++ python documentation](http://docs.feelpp.org/user/0.106/python/pyfeelpptoolboxes/fluid/)\n",
    "- [Feel++ toolbox documentation](http://docs.feelpp.org/toolboxes/0.106/cfd/toolbox/)\n",
    "- [Feel++ math theory](http://docs.feelpp.org/toolboxes/0.106/cfd/theory/)\n",
    "\n",
    "In this tutorial, we propose to first configure the toolbox model, then run a simulation.\n",
    "\n",
    "\n",
    "## Configure the toolbox"
   ]
  },
  {
   "cell_type": "markdown",
   "metadata": {},
   "source": [
    "## "
   ]
  },
  {
   "cell_type": "code",
   "execution_count": null,
   "metadata": {},
   "outputs": [],
   "source": [
    "import sys,time\n",
    "from modelcore import *\n",
    "\n",
    "e=core.Environment(sys.argv,opts=toolboxes_options(\"fluid\"))\n",
    "\n",
    "import discr\n",
    "import exporter\n",
    "import ts\n",
    "from fluid import *\n",
    "\n",
    "f=Fluid_P2P1G1(\"fluid\")\n",
    "f.init()\n",
    "f.printAndSaveInfo()\n",
    "if f.isStationary():\n",
    "    f.solve()\n",
    "    f.exportResults()\n",
    "else:\n",
    "    if not f.doRestart():\n",
    "        f.exportResults( f.timeInitial() )\n",
    "    while not f.timeStepBase().isFinished():\n",
    "        if f.worldComm().isMasterRank():\n",
    "            print(\"============================================================\\n\")\n",
    "            print(\"time simulation: \", f.time(), \"s \\n\")\n",
    "            print(\"============================================================\\n\")\n",
    "        f.solve()\n",
    "        f.exportResults()\n",
    "        f.updateTimeStep()"
   ]
  }
 ],
 "metadata": {
  "kernelspec": {
   "display_name": "Python 3",
   "language": "python",
   "name": "python3"
  },
  "language_info": {
   "codemirror_mode": {
    "name": "ipython",
    "version": 3
   },
   "file_extension": ".py",
   "mimetype": "text/x-python",
   "name": "python",
   "nbconvert_exporter": "python",
   "pygments_lexer": "ipython3",
   "version": "3.7.0"
  }
 },
 "nbformat": 4,
 "nbformat_minor": 2
}
